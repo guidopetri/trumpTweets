{
 "cells": [
  {
   "cell_type": "code",
   "execution_count": 15,
   "metadata": {},
   "outputs": [],
   "source": [
    "import warnings\n",
    "warnings.filterwarnings('ignore')\n",
    "import spacy\n",
    "import pandas as pd\n",
    "import seaborn\n",
    "import gensim"
   ]
  },
  {
   "cell_type": "code",
   "execution_count": 4,
   "metadata": {},
   "outputs": [],
   "source": [
    "nlp = spacy.load('en')"
   ]
  },
  {
   "cell_type": "code",
   "execution_count": 7,
   "metadata": {},
   "outputs": [],
   "source": [
    "tweetData = pd.read_csv('Trump - Sheet1.csv',encoding='utf-8', index_col=False)\n",
    "tweetData.drop('Location',axis=1,inplace=True)"
   ]
  },
  {
   "cell_type": "code",
   "execution_count": 11,
   "metadata": {},
   "outputs": [],
   "source": [
    "parsed = nlp(\"\\n\".join([x.lower() for x in tweetData['Tweet'].tolist()]))"
   ]
  },
  {
   "cell_type": "code",
   "execution_count": 18,
   "metadata": {},
   "outputs": [],
   "source": [
    "tweets, text = [],[]\n",
    "for word in parsed:\n",
    "    if word.text != '\\n' and not word.is_stop and not word.is_punct and not word.like_num:\n",
    "        text.append(word.lemma_)\n",
    "    if word.text == '\\n':\n",
    "        tweets.append(text)\n",
    "        text = []"
   ]
  },
  {
   "cell_type": "code",
   "execution_count": 35,
   "metadata": {},
   "outputs": [
    {
     "data": {
      "text/plain": [
       "['john',\n",
       " 'strong',\n",
       " 'crime',\n",
       " 'border',\n",
       " 'love',\n",
       " 'military',\n",
       " 'vet',\n",
       " 'second',\n",
       " 'amendment',\n",
       " 'star',\n",
       " 'total',\n",
       " 'endorsement']"
      ]
     },
     "execution_count": 35,
     "metadata": {},
     "output_type": "execute_result"
    }
   ],
   "source": [
    "tweets[2]"
   ]
  },
  {
   "cell_type": "code",
   "execution_count": 22,
   "metadata": {},
   "outputs": [],
   "source": [
    "bigram = gensim.models.Phrases(tweets)"
   ]
  },
  {
   "cell_type": "code",
   "execution_count": 31,
   "metadata": {},
   "outputs": [],
   "source": [
    "tweetsBi = [bigram[line] for line in tweets]"
   ]
  },
  {
   "cell_type": "code",
   "execution_count": 36,
   "metadata": {},
   "outputs": [
    {
     "data": {
      "text/plain": [
       "['john',\n",
       " 'strong_crime',\n",
       " 'border',\n",
       " 'love_military',\n",
       " 'vet_second',\n",
       " 'amendment',\n",
       " 'star',\n",
       " 'total_endorsement']"
      ]
     },
     "execution_count": 36,
     "metadata": {},
     "output_type": "execute_result"
    }
   ],
   "source": [
    "tweetsBi[2]"
   ]
  },
  {
   "cell_type": "code",
   "execution_count": 37,
   "metadata": {},
   "outputs": [],
   "source": [
    "dictionary = gensim.corpora.Dictionary(tweets)"
   ]
  },
  {
   "cell_type": "code",
   "execution_count": 40,
   "metadata": {},
   "outputs": [],
   "source": [
    "corpus = [dictionary.doc2bow(text) for text in tweets]"
   ]
  },
  {
   "cell_type": "code",
   "execution_count": 42,
   "metadata": {},
   "outputs": [],
   "source": [
    "ldamodel = gensim.models.LdaModel(corpus=corpus, num_topics=3,id2word=dictionary)"
   ]
  },
  {
   "cell_type": "code",
   "execution_count": 45,
   "metadata": {},
   "outputs": [
    {
     "data": {
      "text/plain": [
       "[(0,\n",
       "  '0.011*\"rt\" + 0.008*\"collusion\" + 0.007*\"trade\" + 0.007*\"pay\" + 0.006*\"love\" + 0.006*\"democrat\" + 0.005*\"not\" + 0.005*\"talk\" + 0.005*\"thank\" + 0.005*\"@realdonaldtrump\"'),\n",
       " (1,\n",
       "  '0.015*\"border\" + 0.015*\"rt\" + 0.010*\"great\" + 0.010*\"vote\" + 0.010*\"trump\" + 0.009*\"crime\" + 0.009*\"total\" + 0.008*\"david\" + 0.007*\"strong\" + 0.007*\"@realdonaldtrump\"'),\n",
       " (2,\n",
       "  '0.019*\"great\" + 0.010*\"country\" + 0.009*\"trump\" + 0.007*\"trade\" + 0.006*\"people\" + 0.006*\"look\" + 0.006*\"job\" + 0.006*\"thank\" + 0.006*\"hillary\" + 0.005*\"campaign\"')]"
      ]
     },
     "execution_count": 45,
     "metadata": {},
     "output_type": "execute_result"
    }
   ],
   "source": [
    "ldamodel.show_topics()"
   ]
  },
  {
   "cell_type": "code",
   "execution_count": null,
   "metadata": {},
   "outputs": [],
   "source": []
  }
 ],
 "metadata": {
  "kernelspec": {
   "display_name": "Python 3",
   "language": "python",
   "name": "python3"
  },
  "language_info": {
   "codemirror_mode": {
    "name": "ipython",
    "version": 3
   },
   "file_extension": ".py",
   "mimetype": "text/x-python",
   "name": "python",
   "nbconvert_exporter": "python",
   "pygments_lexer": "ipython3",
   "version": "3.7.0"
  }
 },
 "nbformat": 4,
 "nbformat_minor": 2
}
